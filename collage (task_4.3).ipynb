{
 "cells": [
  {
   "cell_type": "code",
   "execution_count": 7,
   "id": "promising-sweet",
   "metadata": {},
   "outputs": [],
   "source": [
    "import cv2\n",
    "import numpy as np"
   ]
  },
  {
   "cell_type": "code",
   "execution_count": 8,
   "id": "ecological-uruguay",
   "metadata": {},
   "outputs": [],
   "source": [
    "#storing both images in different variables\n",
    "im1=cv2.imread(\"C:/Users/ASUS/Desktop/boy1.jpg\")\n",
    "im2=cv2.imread(\"C:/Users/ASUS/Desktop/boy2.jpg\")\n"
   ]
  },
  {
   "cell_type": "code",
   "execution_count": 9,
   "id": "small-engineering",
   "metadata": {},
   "outputs": [],
   "source": [
    "#displaying both individual images\n",
    "\n",
    "cv2.imshow(\"image1\",im1)\n",
    "cv2.imshow(\"image2\",im2)\n",
    "cv2.waitKey()\n",
    "cv2.destroyAllWindows()"
   ]
  },
  {
   "cell_type": "code",
   "execution_count": 10,
   "id": "future-christianity",
   "metadata": {},
   "outputs": [
    {
     "data": {
      "text/plain": [
       "(990, 752, 3)"
      ]
     },
     "execution_count": 10,
     "metadata": {},
     "output_type": "execute_result"
    }
   ],
   "source": [
    "#shape of first image\n",
    "im1.shape"
   ]
  },
  {
   "cell_type": "code",
   "execution_count": 11,
   "id": "medium-islam",
   "metadata": {},
   "outputs": [
    {
     "data": {
      "text/plain": [
       "(990, 752, 3)"
      ]
     },
     "execution_count": 11,
     "metadata": {},
     "output_type": "execute_result"
    }
   ],
   "source": [
    "#shape of second image\n",
    "im2.shape"
   ]
  },
  {
   "cell_type": "code",
   "execution_count": 12,
   "id": "forbidden-japanese",
   "metadata": {},
   "outputs": [],
   "source": [
    "#joining both images horizontally\n",
    "collage= np.hstack((im1,im2))\n",
    "\n",
    "#displaying the collage\n",
    "cv2.imshow(\"image_collage\",collage)\n",
    "cv2.waitKey()\n",
    "cv2.destroyAllWindows()"
   ]
  },
  {
   "cell_type": "code",
   "execution_count": null,
   "id": "neural-encounter",
   "metadata": {},
   "outputs": [],
   "source": []
  }
 ],
 "metadata": {
  "kernelspec": {
   "display_name": "Python 3",
   "language": "python",
   "name": "python3"
  },
  "language_info": {
   "codemirror_mode": {
    "name": "ipython",
    "version": 3
   },
   "file_extension": ".py",
   "mimetype": "text/x-python",
   "name": "python",
   "nbconvert_exporter": "python",
   "pygments_lexer": "ipython3",
   "version": "3.9.2"
  }
 },
 "nbformat": 4,
 "nbformat_minor": 5
}
