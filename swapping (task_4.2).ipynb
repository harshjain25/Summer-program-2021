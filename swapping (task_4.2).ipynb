{
 "cells": [
  {
   "cell_type": "code",
   "execution_count": 9,
   "id": "equal-algeria",
   "metadata": {},
   "outputs": [],
   "source": [
    "import cv2\n",
    "import numpy as np"
   ]
  },
  {
   "cell_type": "code",
   "execution_count": 10,
   "id": "assisted-addition",
   "metadata": {},
   "outputs": [],
   "source": [
    "#saving both images in different variables\n",
    "\n",
    "boy1=cv2.imread(\"C:/Users/ASUS/Desktop/boy1.jpg\")\n",
    "boy2=cv2.imread(\"C:/Users/ASUS/Desktop/boy2.jpg\")"
   ]
  },
  {
   "cell_type": "code",
   "execution_count": 11,
   "id": "binary-wireless",
   "metadata": {},
   "outputs": [],
   "source": [
    "#displaying both images before swapping\n",
    "\n",
    "cv2.imshow(\"boy_1\",boy1)\n",
    "cv2.imshow(\"boy_2\",boy2)\n",
    "cv2.waitKey()\n",
    "cv2.destroyAllWindows()"
   ]
  },
  {
   "cell_type": "code",
   "execution_count": 12,
   "id": "proper-protocol",
   "metadata": {},
   "outputs": [],
   "source": [
    "#cropping the face from both images and storing them in different variables\n",
    "\n",
    "b1x1,b1x2,b1y1,b1y2=170,620,4,500\n",
    "b2x1,b2x2,b2y1,b2y2=170,620,4,500\n",
    "\n",
    "boy1_face=boy1[b1y1:b1y2,b1x1:b1x2]\n",
    "boy2_face=boy2[b2y1:b2y2,b2x1:b2x2]"
   ]
  },
  {
   "cell_type": "code",
   "execution_count": 13,
   "id": "sought-poetry",
   "metadata": {},
   "outputs": [],
   "source": [
    "#displaying the cropped faces from both images\n",
    "\n",
    "cv2.imshow(\"boy1_face\",boy1_face)\n",
    "cv2.imshow(\"boy2_face\",boy2_face)\n",
    "cv2.waitKey()\n",
    "cv2.destroyAllWindows()"
   ]
  },
  {
   "cell_type": "code",
   "execution_count": 14,
   "id": "fluid-graduation",
   "metadata": {},
   "outputs": [],
   "source": [
    "#swapping face from 1st image to 2nd image\n",
    "\n",
    "boy1=cv2.imread(\"C:/Users/ASUS/Desktop/boy1.jpg\")\n",
    "boy1[b1y1:b1y2,b1x1:b1x2]=boy2_face"
   ]
  },
  {
   "cell_type": "code",
   "execution_count": 15,
   "id": "analyzed-postcard",
   "metadata": {},
   "outputs": [],
   "source": [
    "#swapping face from 2nd image to 1st image\n",
    "\n",
    "boy2=cv2.imread(\"C:/Users/ASUS/Desktop/boy2.jpg\")\n",
    "boy2[b2y1:b2y2,b2x1:b2x2]=boy1_face"
   ]
  },
  {
   "cell_type": "code",
   "execution_count": 16,
   "id": "relative-ladder",
   "metadata": {},
   "outputs": [],
   "source": [
    "#displaying the final images after swapping\n",
    "\n",
    "cv2.imshow(\"boy1\",boy1)\n",
    "cv2.imshow(\"boy2\",boy2)\n",
    "cv2.waitKey()\n",
    "cv2.destroyAllWindows()"
   ]
  },
  {
   "cell_type": "code",
   "execution_count": null,
   "id": "prostate-adrian",
   "metadata": {},
   "outputs": [],
   "source": []
  }
 ],
 "metadata": {
  "kernelspec": {
   "display_name": "Python 3",
   "language": "python",
   "name": "python3"
  },
  "language_info": {
   "codemirror_mode": {
    "name": "ipython",
    "version": 3
   },
   "file_extension": ".py",
   "mimetype": "text/x-python",
   "name": "python",
   "nbconvert_exporter": "python",
   "pygments_lexer": "ipython3",
   "version": "3.9.2"
  }
 },
 "nbformat": 4,
 "nbformat_minor": 5
}
